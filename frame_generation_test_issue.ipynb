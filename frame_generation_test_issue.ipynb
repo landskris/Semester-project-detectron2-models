{
 "cells": [
  {
   "cell_type": "code",
   "execution_count": 1,
   "outputs": [],
   "source": [
    "from os import listdir, getcwd, makedirs\n",
    "from os.path import join, isfile, exists\n",
    "from typing import Sequence\n",
    "\n",
    "import cv2\n",
    "import pandas as pd\n",
    "from scipy.io import loadmat\n",
    "\n",
    "from tools import smd_paths\n",
    "from tools.base_paths import get_root_dir\n",
    "from tools.smd_paths import get_smd_main_dir"
   ],
   "metadata": {
    "collapsed": false,
    "pycharm": {
     "name": "#%%\n"
    }
   }
  },
  {
   "cell_type": "markdown",
   "source": [
    "Purpose of this file is to go deeper into the details of the frame generation for the Singapore dataset..\n",
    "\n",
    "### Why?;\n",
    "- MVI_0790 originally generated 600 frames, while previous work claims it to have 1010 frames\n",
    "    - So in generating the xml files, we get way fewer annotations matched to frames.\n",
    "    - This must be investigated.\n",
    "\n",
    "- We observe that the MVI_0970 in objects_onboard.txt as generated from the author of (https://github.com/tilemmpon/Singapore-Maritime-Dataset-Frames-Ground-Truth-Generation-and-Statistics)\n",
    " only utilizes the non-empty annotated frames from the GT file, not all 1010.\n",
    "\n",
    "- In our case, it seems either we must match each of the 600 frames to an non-empty annotation in the GT file\n",
    " or we must simply generate frames at a higher frame rate.\n",
    "\n"
   ],
   "metadata": {
    "collapsed": false
   }
  },
  {
   "cell_type": "markdown",
   "source": [
    "\n",
    "We thus find it of interest to generate all the frames from MVI_0790 and double-check the total amount.\n",
    "- Thereafter, we compare with the total amount of lines in the objectGT mat file.\n"
   ],
   "metadata": {
    "collapsed": false
   }
  },
  {
   "cell_type": "code",
   "execution_count": 2,
   "outputs": [],
   "source": [
    "# Define directories\n",
    "repo_dir = get_root_dir()\n",
    "smd_dir = get_smd_main_dir()\n",
    "onboard_annotations = smd_paths.vis_onboard_all_annotations"
   ],
   "metadata": {
    "collapsed": false,
    "pycharm": {
     "name": "#%%\n"
    }
   }
  },
  {
   "cell_type": "markdown",
   "source": [
    "Load test video MVI_0790_VIS_OB"
   ],
   "metadata": {
    "collapsed": false,
    "pycharm": {
     "name": "#%% md\n"
    }
   }
  },
  {
   "cell_type": "code",
   "execution_count": 3,
   "outputs": [],
   "source": [
    "# Load test video\n",
    "video_name_filter = 'MVI_0790_VIS_OB'\n",
    "videos_path_onboard = join(repo_dir, \"SMD_Data\", \"VIS_Onboard\", \"Videos\")\n",
    "object_annotations_onboard_path = join(repo_dir, \"SMD_Data\", \"VIS_Onboard\", \"ObjectGT\")\n",
    "\n",
    "test_video = join(videos_path_onboard, video_name_filter + '.avi')\n",
    "test_gt_file = join(object_annotations_onboard_path, video_name_filter + '_ObjectGT.mat')\n",
    "\n",
    "# Define test folder\n",
    "test_folder = join(getcwd(), 'MVI_0790_VIS_OB')\n",
    "makedirs(test_folder, exist_ok=True)"
   ],
   "metadata": {
    "collapsed": false,
    "pycharm": {
     "name": "#%%\n"
    }
   }
  },
  {
   "cell_type": "markdown",
   "source": [
    "Count the length of captured frames of test video MVI_0790_VIS_OB"
   ],
   "metadata": {
    "collapsed": false,
    "pycharm": {
     "name": "#%% md\n"
    }
   }
  },
  {
   "cell_type": "code",
   "execution_count": 5,
   "outputs": [
    {
     "name": "stdout",
     "output_type": "stream",
     "text": [
      "Framecap length of test folder is: 600\n"
     ]
    }
   ],
   "source": [
    "def count_video_frames_manually(video_path: str) -> int:\n",
    "    vidcap = cv2.VideoCapture(video_path)\n",
    "    length = int(vidcap.get(cv2.CAP_PROP_FRAME_COUNT))\n",
    "    vidcap.release()\n",
    "    return length\n",
    "\n",
    "test_frames = count_video_frames_manually(test_video)\n",
    "print('Framecap length of test folder is: {}'.format(test_frames))\n",
    "\n"
   ],
   "metadata": {
    "collapsed": false,
    "pycharm": {
     "name": "#%%\n"
    }
   }
  },
  {
   "cell_type": "markdown",
   "source": [
    "Let us compare this count with the mat ground-truth file total lines and \"non-empty annotation\" lines.\n",
    "That is, annotation lines which the presence of an object.\n",
    "\n",
    "- Each line should correspond to one frame, where the line might include single or multiple-object annotations."
   ],
   "metadata": {
    "collapsed": false
   }
  },
  {
   "cell_type": "code",
   "execution_count": 6,
   "outputs": [
    {
     "name": "stdout",
     "output_type": "stream",
     "text": [
      "Frame count for MVI_0790_VIS_OB is: 600\n",
      "All GT lines in mat file: 1010\n",
      "GT lines with an object annotated: 597\n"
     ]
    }
   ],
   "source": [
    "def load_mat_file(file_path: str):\n",
    "    mat_gt = loadmat(file_path)\n",
    "    all_gts = len(mat_gt['structXML'][0])\n",
    "    object_matrix = mat_gt['structXML'][0]['Object']\n",
    "    object_occurrences = len([object_array for object_array in object_matrix if object_array.size > 0])\n",
    "    return all_gts, object_occurrences\n",
    "\n",
    "ground_truths, ground_truths_with_objs = load_mat_file(test_gt_file)\n",
    "\n",
    "print('Frame count for {} is: {}'.format(video_name_filter, test_frames))\n",
    "print('All GT lines in mat file: {}'.format(ground_truths))\n",
    "print('GT lines with an object annotated: {}'.format(ground_truths_with_objs))"
   ],
   "metadata": {
    "collapsed": false,
    "pycharm": {
     "name": "#%%\n"
    }
   }
  },
  {
   "cell_type": "markdown",
   "source": [
    "As we can see, the MVI_0790_VIS_OB has 600 frames from video capture generation.\n",
    "\n",
    "- There are 1010 annotated frames in the ground truth.\n",
    "- There are 597 annotated frames where an object actually occures.\n",
    "\n",
    "- How can we match the generated 600 frames with the 1010 annotation lines? Something is obviously fishy."
   ],
   "metadata": {
    "collapsed": false
   }
  },
  {
   "cell_type": "markdown",
   "source": [
    "### Let us summarize the same statistics for all the videos and assess gt count discrepancies.\n",
    "This might just be the case for the VIS_0970 video.\n"
   ],
   "metadata": {
    "collapsed": false
   }
  },
  {
   "cell_type": "markdown",
   "source": [
    "Define onboard GT paths ( hardcoded )"
   ],
   "metadata": {
    "collapsed": false
   }
  },
  {
   "cell_type": "code",
   "execution_count": 10,
   "outputs": [
    {
     "name": "stdout",
     "output_type": "stream",
     "text": [
      "Length of onboard videos: 4\n",
      "Length of onboard GT files: 4\n"
     ]
    }
   ],
   "source": [
    "# Hardcode folders with ground-truth as this is known\n",
    "onboard_file_names = ['MVI_0790_VIS_OB', 'MVI_0797_VIS_OB', 'MVI_0799_VIS_OB', 'MVI_0801_VIS_OB']\n",
    "\n",
    "onboard_video_paths = {file_name: join(videos_path_onboard, file_name + '.avi')\n",
    "                       for file_name in onboard_file_names}\n",
    "\n",
    "onboard_gt_paths = {file_name: join(object_annotations_onboard_path, file_name + '_ObjectGT.mat')\n",
    "                    for file_name in onboard_file_names}\n",
    "\n",
    "# Do some quality checks\n",
    "\n",
    "assert all(isfile(onboard_video_paths.get(file_name)) for file_name in onboard_file_names), \\\n",
    "    'The onboard video paths do not exist'\n",
    "assert all(isfile(onboard_gt_paths.get(file_name)) for file_name in onboard_file_names), \\\n",
    "    'The onboard video GT paths do not exist'\n",
    "\n",
    "print('Length of onboard videos: {}'.format(len(onboard_video_paths)))\n",
    "print('Length of onboard GT files: {}'.format(len(onboard_gt_paths)))\n"
   ],
   "metadata": {
    "collapsed": false,
    "pycharm": {
     "name": "#%%\n"
    }
   }
  },
  {
   "cell_type": "markdown",
   "source": [
    "Create helper function and summarize statistics for onboard\n",
    "Summarize the following\n",
    "- Total generated frames: 'Frame_count\n",
    "- Total GT lines(rows) in GT mat files: 'GT_all_mat_lines'\n",
    "- Amount of GT lines which are not emptily annotated: 'GT_mat_lines_not_empty'\n",
    "- Difference total generated frames and total GT lines: 'Diff_Frames_all_lines'\n"
   ],
   "metadata": {
    "collapsed": false
   }
  },
  {
   "cell_type": "code",
   "execution_count": 11,
   "outputs": [
    {
     "data": {
      "text/plain": "          Filename Frame_count GT_all_mat_lines GT_mat_lines_not_empty  \\\n0  MVI_0790_VIS_OB         600             1010                    597   \n1  MVI_0797_VIS_OB         600              600                    600   \n2  MVI_0799_VIS_OB         600              601                    481   \n3  MVI_0801_VIS_OB         600              600                    600   \n\n  Diff_Frames_all_lines  \n0                  -410  \n1                     0  \n2                    -1  \n3                     0  ",
      "text/html": "<div>\n<style scoped>\n    .dataframe tbody tr th:only-of-type {\n        vertical-align: middle;\n    }\n\n    .dataframe tbody tr th {\n        vertical-align: top;\n    }\n\n    .dataframe thead th {\n        text-align: right;\n    }\n</style>\n<table border=\"1\" class=\"dataframe\">\n  <thead>\n    <tr style=\"text-align: right;\">\n      <th></th>\n      <th>Filename</th>\n      <th>Frame_count</th>\n      <th>GT_all_mat_lines</th>\n      <th>GT_mat_lines_not_empty</th>\n      <th>Diff_Frames_all_lines</th>\n    </tr>\n  </thead>\n  <tbody>\n    <tr>\n      <th>0</th>\n      <td>MVI_0790_VIS_OB</td>\n      <td>600</td>\n      <td>1010</td>\n      <td>597</td>\n      <td>-410</td>\n    </tr>\n    <tr>\n      <th>1</th>\n      <td>MVI_0797_VIS_OB</td>\n      <td>600</td>\n      <td>600</td>\n      <td>600</td>\n      <td>0</td>\n    </tr>\n    <tr>\n      <th>2</th>\n      <td>MVI_0799_VIS_OB</td>\n      <td>600</td>\n      <td>601</td>\n      <td>481</td>\n      <td>-1</td>\n    </tr>\n    <tr>\n      <th>3</th>\n      <td>MVI_0801_VIS_OB</td>\n      <td>600</td>\n      <td>600</td>\n      <td>600</td>\n      <td>0</td>\n    </tr>\n  </tbody>\n</table>\n</div>"
     },
     "execution_count": 11,
     "metadata": {},
     "output_type": "execute_result"
    }
   ],
   "source": [
    "\n",
    "def generate_frame_and_gt_statistics(file_names, video_path_dict, gt_path_dict):\n",
    "    # List to save all pd.series generated for each file name\n",
    "    series_list = []\n",
    "    for file_name in file_names:\n",
    "        video_cap_length = count_video_frames_manually(video_path_dict[file_name])\n",
    "        gt_all_lines, gt_object_count = load_mat_file(gt_path_dict[file_name])\n",
    "        diff_video_length_gt_all_lines = video_cap_length - gt_all_lines\n",
    "        series = pd.Series({'Filename': file_name,\n",
    "                            'Frame_count': video_cap_length,\n",
    "                            'GT_all_mat_lines': gt_all_lines,\n",
    "                            'GT_mat_lines_not_empty': gt_object_count,\n",
    "                            'Diff_Frames_all_lines': diff_video_length_gt_all_lines})\n",
    "        series_list.append(series)\n",
    "\n",
    "    stats_df = pd.concat(series_list, axis=1).T\n",
    "    return stats_df\n",
    "\n",
    "\n",
    "generate_frame_and_gt_statistics(onboard_file_names, onboard_video_paths, onboard_gt_paths)"
   ],
   "metadata": {
    "collapsed": false,
    "pycharm": {
     "name": "#%%\n"
    }
   }
  },
  {
   "cell_type": "markdown",
   "source": [
    "The main problem is when the frame_count < GT_all_mat_lines. That means we have generated\n",
    "fewer frames than existing annotations.  As we see, this is mainly the case for MVI_0790_VIS_OB.\n",
    "\n",
    "Let us do the same check for onshore videos."
   ],
   "metadata": {
    "collapsed": false
   }
  },
  {
   "cell_type": "code",
   "execution_count": 12,
   "outputs": [
    {
     "name": "stdout",
     "output_type": "stream",
     "text": [
      "Length of onshore videos: 36\n",
      "Length of onshore GT files: 36\n"
     ]
    }
   ],
   "source": [
    "# Redefine onshore paths\n",
    "videos_path_onshore = join(repo_dir, \"SMD_Data\", \"VIS_Onshore\", \"Videos\")\n",
    "object_annotations_onshore_path = join(repo_dir, \"SMD_Data\", \"VIS_Onshore\", \"ObjectGT\")\n",
    "\n",
    "onshore_gt_file_names = listdir(object_annotations_onshore_path)\n",
    "# Get the file names which are used for filtering the videos for generating frames\n",
    "onshore_file_names = [file_name.split('_ObjectGT')[0] for file_name in onshore_gt_file_names]\n",
    "\n",
    "onshore_gt_paths = {file_name: join(object_annotations_onshore_path, file_name + '_ObjectGT.mat')\n",
    "                    for file_name in onshore_file_names}\n",
    "\n",
    "onshore_video_paths = {file_name: join(videos_path_onshore, file_name + '.avi')\n",
    "                       for file_name in onshore_file_names}\n",
    "\n",
    "assert all(isfile(onshore_video_paths.get(file_name)) for file_name in onshore_file_names), \\\n",
    "    'The onboard video paths do not exist'\n",
    "assert all(isfile(onshore_gt_paths.get(file_name)) for file_name in onshore_file_names), \\\n",
    "    'The onboard video GT paths do not exist'\n",
    "\n",
    "print('Length of onshore videos: {}'.format(len(onshore_video_paths)))\n",
    "print('Length of onshore GT files: {}'.format(len(onshore_gt_paths)))\n",
    "\n",
    "#onshore_video_paths"
   ],
   "metadata": {
    "collapsed": false,
    "pycharm": {
     "name": "#%%\n"
    }
   }
  },
  {
   "cell_type": "markdown",
   "source": [
    "Onshore statistics"
   ],
   "metadata": {
    "collapsed": false
   }
  },
  {
   "cell_type": "code",
   "execution_count": 13,
   "outputs": [
    {
     "data": {
      "text/plain": "             Filename Frame_count GT_all_mat_lines GT_mat_lines_not_empty  \\\n0   MVI_1448_VIS_Haze         604              604                    604   \n1   MVI_1451_VIS_Haze         439              439                    439   \n2   MVI_1452_VIS_Haze         340              340                    340   \n3        MVI_1469_VIS         600              600                    600   \n4        MVI_1474_VIS         445              445                    445   \n5        MVI_1478_VIS         477              477                    477   \n6        MVI_1479_VIS         206              206                    206   \n7        MVI_1481_VIS         409              409                    409   \n8        MVI_1482_VIS         454              454                    454   \n9        MVI_1484_VIS         687              687                    687   \n10       MVI_1486_VIS         629              629                    629   \n11       MVI_1578_VIS         505              505                    505   \n12       MVI_1582_VIS         540              540                    540   \n13       MVI_1583_VIS         251              251                    251   \n14       MVI_1584_VIS         539              550                    550   \n15       MVI_1587_VIS         600              600                    600   \n16       MVI_1592_VIS         491              491                    491   \n17       MVI_1609_VIS         505              505                    505   \n18       MVI_1610_VIS         543              543                    543   \n19       MVI_1612_VIS         261              261                    261   \n20       MVI_1613_VIS         626              626                    626   \n21       MVI_1614_VIS         582              582                    582   \n22       MVI_1615_VIS         566              566                    566   \n23       MVI_1617_VIS         600              600                    600   \n24       MVI_1619_VIS         473              473                    473   \n25       MVI_1620_VIS         502              502                    502   \n26       MVI_1622_VIS         309              309                    309   \n27       MVI_1623_VIS         522              522                    522   \n28       MVI_1624_VIS         494              494                    494   \n29       MVI_1625_VIS         995              995                    995   \n30       MVI_1626_VIS         556              556                    556   \n31       MVI_1627_VIS         600              600                    600   \n32       MVI_1640_VIS         310              310                    310   \n33       MVI_1644_VIS         252              252                    252   \n34       MVI_1645_VIS         535              535                    535   \n35       MVI_1646_VIS         520              520                    520   \n\n   Diff_Frames_all_lines  \n0                      0  \n1                      0  \n2                      0  \n3                      0  \n4                      0  \n5                      0  \n6                      0  \n7                      0  \n8                      0  \n9                      0  \n10                     0  \n11                     0  \n12                     0  \n13                     0  \n14                   -11  \n15                     0  \n16                     0  \n17                     0  \n18                     0  \n19                     0  \n20                     0  \n21                     0  \n22                     0  \n23                     0  \n24                     0  \n25                     0  \n26                     0  \n27                     0  \n28                     0  \n29                     0  \n30                     0  \n31                     0  \n32                     0  \n33                     0  \n34                     0  \n35                     0  ",
      "text/html": "<div>\n<style scoped>\n    .dataframe tbody tr th:only-of-type {\n        vertical-align: middle;\n    }\n\n    .dataframe tbody tr th {\n        vertical-align: top;\n    }\n\n    .dataframe thead th {\n        text-align: right;\n    }\n</style>\n<table border=\"1\" class=\"dataframe\">\n  <thead>\n    <tr style=\"text-align: right;\">\n      <th></th>\n      <th>Filename</th>\n      <th>Frame_count</th>\n      <th>GT_all_mat_lines</th>\n      <th>GT_mat_lines_not_empty</th>\n      <th>Diff_Frames_all_lines</th>\n    </tr>\n  </thead>\n  <tbody>\n    <tr>\n      <th>0</th>\n      <td>MVI_1448_VIS_Haze</td>\n      <td>604</td>\n      <td>604</td>\n      <td>604</td>\n      <td>0</td>\n    </tr>\n    <tr>\n      <th>1</th>\n      <td>MVI_1451_VIS_Haze</td>\n      <td>439</td>\n      <td>439</td>\n      <td>439</td>\n      <td>0</td>\n    </tr>\n    <tr>\n      <th>2</th>\n      <td>MVI_1452_VIS_Haze</td>\n      <td>340</td>\n      <td>340</td>\n      <td>340</td>\n      <td>0</td>\n    </tr>\n    <tr>\n      <th>3</th>\n      <td>MVI_1469_VIS</td>\n      <td>600</td>\n      <td>600</td>\n      <td>600</td>\n      <td>0</td>\n    </tr>\n    <tr>\n      <th>4</th>\n      <td>MVI_1474_VIS</td>\n      <td>445</td>\n      <td>445</td>\n      <td>445</td>\n      <td>0</td>\n    </tr>\n    <tr>\n      <th>5</th>\n      <td>MVI_1478_VIS</td>\n      <td>477</td>\n      <td>477</td>\n      <td>477</td>\n      <td>0</td>\n    </tr>\n    <tr>\n      <th>6</th>\n      <td>MVI_1479_VIS</td>\n      <td>206</td>\n      <td>206</td>\n      <td>206</td>\n      <td>0</td>\n    </tr>\n    <tr>\n      <th>7</th>\n      <td>MVI_1481_VIS</td>\n      <td>409</td>\n      <td>409</td>\n      <td>409</td>\n      <td>0</td>\n    </tr>\n    <tr>\n      <th>8</th>\n      <td>MVI_1482_VIS</td>\n      <td>454</td>\n      <td>454</td>\n      <td>454</td>\n      <td>0</td>\n    </tr>\n    <tr>\n      <th>9</th>\n      <td>MVI_1484_VIS</td>\n      <td>687</td>\n      <td>687</td>\n      <td>687</td>\n      <td>0</td>\n    </tr>\n    <tr>\n      <th>10</th>\n      <td>MVI_1486_VIS</td>\n      <td>629</td>\n      <td>629</td>\n      <td>629</td>\n      <td>0</td>\n    </tr>\n    <tr>\n      <th>11</th>\n      <td>MVI_1578_VIS</td>\n      <td>505</td>\n      <td>505</td>\n      <td>505</td>\n      <td>0</td>\n    </tr>\n    <tr>\n      <th>12</th>\n      <td>MVI_1582_VIS</td>\n      <td>540</td>\n      <td>540</td>\n      <td>540</td>\n      <td>0</td>\n    </tr>\n    <tr>\n      <th>13</th>\n      <td>MVI_1583_VIS</td>\n      <td>251</td>\n      <td>251</td>\n      <td>251</td>\n      <td>0</td>\n    </tr>\n    <tr>\n      <th>14</th>\n      <td>MVI_1584_VIS</td>\n      <td>539</td>\n      <td>550</td>\n      <td>550</td>\n      <td>-11</td>\n    </tr>\n    <tr>\n      <th>15</th>\n      <td>MVI_1587_VIS</td>\n      <td>600</td>\n      <td>600</td>\n      <td>600</td>\n      <td>0</td>\n    </tr>\n    <tr>\n      <th>16</th>\n      <td>MVI_1592_VIS</td>\n      <td>491</td>\n      <td>491</td>\n      <td>491</td>\n      <td>0</td>\n    </tr>\n    <tr>\n      <th>17</th>\n      <td>MVI_1609_VIS</td>\n      <td>505</td>\n      <td>505</td>\n      <td>505</td>\n      <td>0</td>\n    </tr>\n    <tr>\n      <th>18</th>\n      <td>MVI_1610_VIS</td>\n      <td>543</td>\n      <td>543</td>\n      <td>543</td>\n      <td>0</td>\n    </tr>\n    <tr>\n      <th>19</th>\n      <td>MVI_1612_VIS</td>\n      <td>261</td>\n      <td>261</td>\n      <td>261</td>\n      <td>0</td>\n    </tr>\n    <tr>\n      <th>20</th>\n      <td>MVI_1613_VIS</td>\n      <td>626</td>\n      <td>626</td>\n      <td>626</td>\n      <td>0</td>\n    </tr>\n    <tr>\n      <th>21</th>\n      <td>MVI_1614_VIS</td>\n      <td>582</td>\n      <td>582</td>\n      <td>582</td>\n      <td>0</td>\n    </tr>\n    <tr>\n      <th>22</th>\n      <td>MVI_1615_VIS</td>\n      <td>566</td>\n      <td>566</td>\n      <td>566</td>\n      <td>0</td>\n    </tr>\n    <tr>\n      <th>23</th>\n      <td>MVI_1617_VIS</td>\n      <td>600</td>\n      <td>600</td>\n      <td>600</td>\n      <td>0</td>\n    </tr>\n    <tr>\n      <th>24</th>\n      <td>MVI_1619_VIS</td>\n      <td>473</td>\n      <td>473</td>\n      <td>473</td>\n      <td>0</td>\n    </tr>\n    <tr>\n      <th>25</th>\n      <td>MVI_1620_VIS</td>\n      <td>502</td>\n      <td>502</td>\n      <td>502</td>\n      <td>0</td>\n    </tr>\n    <tr>\n      <th>26</th>\n      <td>MVI_1622_VIS</td>\n      <td>309</td>\n      <td>309</td>\n      <td>309</td>\n      <td>0</td>\n    </tr>\n    <tr>\n      <th>27</th>\n      <td>MVI_1623_VIS</td>\n      <td>522</td>\n      <td>522</td>\n      <td>522</td>\n      <td>0</td>\n    </tr>\n    <tr>\n      <th>28</th>\n      <td>MVI_1624_VIS</td>\n      <td>494</td>\n      <td>494</td>\n      <td>494</td>\n      <td>0</td>\n    </tr>\n    <tr>\n      <th>29</th>\n      <td>MVI_1625_VIS</td>\n      <td>995</td>\n      <td>995</td>\n      <td>995</td>\n      <td>0</td>\n    </tr>\n    <tr>\n      <th>30</th>\n      <td>MVI_1626_VIS</td>\n      <td>556</td>\n      <td>556</td>\n      <td>556</td>\n      <td>0</td>\n    </tr>\n    <tr>\n      <th>31</th>\n      <td>MVI_1627_VIS</td>\n      <td>600</td>\n      <td>600</td>\n      <td>600</td>\n      <td>0</td>\n    </tr>\n    <tr>\n      <th>32</th>\n      <td>MVI_1640_VIS</td>\n      <td>310</td>\n      <td>310</td>\n      <td>310</td>\n      <td>0</td>\n    </tr>\n    <tr>\n      <th>33</th>\n      <td>MVI_1644_VIS</td>\n      <td>252</td>\n      <td>252</td>\n      <td>252</td>\n      <td>0</td>\n    </tr>\n    <tr>\n      <th>34</th>\n      <td>MVI_1645_VIS</td>\n      <td>535</td>\n      <td>535</td>\n      <td>535</td>\n      <td>0</td>\n    </tr>\n    <tr>\n      <th>35</th>\n      <td>MVI_1646_VIS</td>\n      <td>520</td>\n      <td>520</td>\n      <td>520</td>\n      <td>0</td>\n    </tr>\n  </tbody>\n</table>\n</div>"
     },
     "execution_count": 13,
     "metadata": {},
     "output_type": "execute_result"
    }
   ],
   "source": [
    "generate_frame_and_gt_statistics(onshore_file_names, onshore_video_paths, onshore_gt_paths)"
   ],
   "metadata": {
    "collapsed": false,
    "pycharm": {
     "name": "#%%\n"
    }
   }
  },
  {
   "cell_type": "markdown",
   "source": [
    "### Observations\n",
    "\n",
    "- There are only three videos with difference in their generated frames and total existing GT mat annotation lines.\n",
    "- Onboard: MVI_0790_VIS_OB (-410), MVI_0799_VIS_OB ( -1)\n",
    "- Onshore: MVI_1584_VIS (-11)\n",
    "\n",
    "So, this issue is mainly present for MVI_0790_VIS_OB as the other ones are mostly similar to their frame generation.\n",
    "How can it be the case?"
   ],
   "metadata": {
    "collapsed": false
   }
  },
  {
   "cell_type": "markdown",
   "source": [
    "### Error hypothesis 1\n",
    "- The 600 frames generated from MVI_0790_VIS_OB are possible generated with wrong frame-rate.\n",
    "- Can we set the fps of cv2.videocapture to generate the same amount of frames as the total\n",
    "annotated frames from the mat file?\n",
    "\n",
    "However, this is counter intuitive as all the other videos in onboard are 20 seconds\n",
    "and for 600 generated frames they seem to match well with the annotations.\n",
    "\n",
    "Why would one video need such a much higher fps when the other ones are recorded with the same camera ... ?\n",
    "\n"
   ],
   "metadata": {
    "collapsed": false
   }
  },
  {
   "cell_type": "code",
   "execution_count": 14,
   "outputs": [
    {
     "data": {
      "text/plain": "30.0"
     },
     "execution_count": 14,
     "metadata": {},
     "output_type": "execute_result"
    }
   ],
   "source": [
    "vidcap = cv2.VideoCapture(test_video)\n",
    "fps = vidcap.get(cv2.CAP_PROP_FPS)\n",
    "vidcap.release()\n",
    "fps"
   ],
   "metadata": {
    "collapsed": false,
    "pycharm": {
     "name": "#%%\n"
    }
   }
  },
  {
   "cell_type": "markdown",
   "source": [
    "We can see that the fps of 30, with video length of 20s for MVI_0790_VIS_OB yields our generated 600 frames.\n",
    "\n"
   ],
   "metadata": {
    "collapsed": false
   }
  },
  {
   "cell_type": "markdown",
   "source": [
    "### Error hypothesis 2\n",
    "We need to ignore the empty annotated lines from the GT of MVI_0790_VIS_OB.\n",
    "\n",
    "- However, such a solution would require us to match 600 frames with the 597 ground-truths where an object actually occurres.\n",
    "- This would be presumptuous to match properly if we strip away the empty GT lines.\n",
    "\n",
    "\n",
    "\n"
   ],
   "metadata": {
    "collapsed": false,
    "pycharm": {
     "name": "#%% md\n"
    }
   }
  }
 ],
 "metadata": {
  "kernelspec": {
   "display_name": "Python 3",
   "language": "python",
   "name": "python3"
  },
  "language_info": {
   "codemirror_mode": {
    "name": "ipython",
    "version": 2
   },
   "file_extension": ".py",
   "mimetype": "text/x-python",
   "name": "python",
   "nbconvert_exporter": "python",
   "pygments_lexer": "ipython2",
   "version": "2.7.6"
  }
 },
 "nbformat": 4,
 "nbformat_minor": 0
}